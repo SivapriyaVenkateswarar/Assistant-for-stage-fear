{
 "cells": [
  {
   "cell_type": "code",
   "execution_count": 2,
   "id": "cf02b725",
   "metadata": {},
   "outputs": [],
   "source": [
    "import cv2\n",
    "import mediapipe as mp\n",
    "\n",
    "mp_pose = mp.solutions.pose\n",
    "pose = mp_pose.Pose()\n",
    "cap = cv2.VideoCapture(0)\n",
    "\n",
    "while cap.isOpened():\n",
    "    ret, frame = cap.read()\n",
    "    if not ret:\n",
    "        break\n",
    "    image_rgb = cv2.cvtColor(frame, cv2.COLOR_BGR2RGB)\n",
    "    results = pose.process(image_rgb)\n",
    "\n",
    "    if results.pose_landmarks:\n",
    "        mp.solutions.drawing_utils.draw_landmarks(\n",
    "            frame, results.pose_landmarks, mp_pose.POSE_CONNECTIONS)\n",
    "    \n",
    "    cv2.imshow(\"Pose Detection\", frame)\n",
    "    if cv2.waitKey(10) & 0xFF == ord('q'):\n",
    "        break\n",
    "\n",
    "cap.release()\n",
    "cv2.destroyAllWindows()\n"
   ]
  },
  {
   "cell_type": "code",
   "execution_count": 4,
   "id": "87c1604e",
   "metadata": {},
   "outputs": [
    {
     "name": "stdout",
     "output_type": "stream",
     "text": [
      " You know, rather than be scared by a jobless future, I started to rethink it and I said, I could really be excited by a jobless future because I can finally see a day and under 50 years when people don't have to work for pay. Because humans have labored for thousands of years, slaves to their world primarily in most of the world, and soon they'll be able to do what they wanted to do. What they were born to do before someone came along and said, stop doing that, you gotta go earn a living. This is a whole new renaissance that we may be able to see actually in our lifetime where humans can do what they were born to do, like art and dance and music and invention and caring for others and whatever it is that you wanna do. Now, there will be fits and starts, there will be politics to get in the way. This is no utopia, no it is a utopia, actually come to think of it. And working together towards this goal, this is actually a great idea when we look at it from this vantage point.\n"
     ]
    }
   ],
   "source": [
    "import whisper\n",
    "\n",
    "model = whisper.load_model(\"base\")\n",
    "result = model.transcribe(r\"C:\\Users\\Sivapriya\\Downloads\\Kevin Surace： 1 Minute Ted Talk.wav\")\n",
    "print(result[\"text\"])\n"
   ]
  }
 ],
 "metadata": {
  "kernelspec": {
   "display_name": "Python 3",
   "language": "python",
   "name": "python3"
  },
  "language_info": {
   "codemirror_mode": {
    "name": "ipython",
    "version": 3
   },
   "file_extension": ".py",
   "mimetype": "text/x-python",
   "name": "python",
   "nbconvert_exporter": "python",
   "pygments_lexer": "ipython3",
   "version": "3.12.3"
  }
 },
 "nbformat": 4,
 "nbformat_minor": 5
}
