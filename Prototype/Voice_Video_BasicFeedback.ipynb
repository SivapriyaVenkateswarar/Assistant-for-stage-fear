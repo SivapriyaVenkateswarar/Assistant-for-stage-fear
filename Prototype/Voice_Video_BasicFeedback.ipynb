{
 "cells": [
  {
   "cell_type": "code",
   "execution_count": 1,
   "id": "8508240b",
   "metadata": {},
   "outputs": [],
   "source": [
    "import cv2\n",
    "import mediapipe as mp\n",
    "import sounddevice as sd\n",
    "import whisper\n",
    "import numpy as np\n",
    "import scipy.io.wavfile as wav\n",
    "import time\n",
    "import re"
   ]
  },
  {
   "cell_type": "code",
   "execution_count": 2,
   "id": "bd61406b",
   "metadata": {},
   "outputs": [],
   "source": [
    "duration = 30  # seconds\n",
    "audio_fs = 16000\n",
    "audio_filename = \"speech.wav\"\n",
    "model = whisper.load_model(\"base\")\n",
    "mp_pose = mp.solutions.pose\n",
    "pose = mp_pose.Pose()"
   ]
  },
  {
   "cell_type": "code",
   "execution_count": 3,
   "id": "b9bf9eff",
   "metadata": {},
   "outputs": [],
   "source": [
    "def record_video_audio(duration=30):\n",
    "    cap = cv2.VideoCapture(0)\n",
    "    print(\"Recording started... Speak now.\")\n",
    "\n",
    "    frames = []\n",
    "    start_time = time.time()\n",
    "    \n",
    "    audio = sd.rec(int(duration * audio_fs), samplerate=audio_fs, channels=1)\n",
    "    \n",
    "    while time.time() - start_time < duration:\n",
    "        ret, frame = cap.read()\n",
    "        if not ret:\n",
    "            break\n",
    "        \n",
    "        image_rgb = cv2.cvtColor(frame, cv2.COLOR_BGR2RGB)\n",
    "        results = pose.process(image_rgb)\n",
    "\n",
    "        if results.pose_landmarks:\n",
    "            mp.solutions.drawing_utils.draw_landmarks(\n",
    "                frame, results.pose_landmarks, mp_pose.POSE_CONNECTIONS)\n",
    "        \n",
    "        cv2.imshow(\"Recording - Press 'q' to quit early\", frame)\n",
    "        if cv2.waitKey(1) & 0xFF == ord('q'):\n",
    "            break\n",
    "\n",
    "        frames.append(frame)\n",
    "\n",
    "    cap.release()\n",
    "    cv2.destroyAllWindows()\n",
    "    sd.wait()\n",
    "\n",
    "    wav.write(audio_filename, audio_fs, audio)\n",
    "    print(\"Recording complete.\")\n",
    "    return frames\n",
    "\n"
   ]
  },
  {
   "cell_type": "code",
   "execution_count": 4,
   "id": "90daec10",
   "metadata": {},
   "outputs": [],
   "source": [
    "def analyze_audio(audio_filename):\n",
    "    result = model.transcribe(audio_filename)\n",
    "    text = result['text']\n",
    "    words = text.split()\n",
    "    word_count = len(words)\n",
    "    filler_words = re.findall(r'\\b(uh+|um+|like|you know)\\b', text.lower())\n",
    "    \n",
    "    wpm = word_count / (duration / 60)\n",
    "    return {\n",
    "        \"text\": text,\n",
    "        \"word_count\": word_count,\n",
    "        \"filler_count\": len(filler_words),\n",
    "        \"wpm\": round(wpm, 1),\n",
    "        \"filler_words\": filler_words\n",
    "    }\n",
    "\n"
   ]
  },
  {
   "cell_type": "code",
   "execution_count": 5,
   "id": "1508d906",
   "metadata": {},
   "outputs": [],
   "source": [
    "def generate_feedback(audio_stats):\n",
    "    print(\"\\n--- FEEDBACK REPORT ---\")\n",
    "    print(f\"Transcript: {audio_stats['text'][:100]}...\")\n",
    "    print(f\"Total words: {audio_stats['word_count']}\")\n",
    "    print(f\"Speech Rate: {audio_stats['wpm']} WPM\")\n",
    "    print(f\"Filler words detected: {audio_stats['filler_count']} ({', '.join(audio_stats['filler_words'])})\")\n",
    "\n",
    "    if audio_stats['wpm'] > 140:\n",
    "        print(\"⚠️ You are speaking a bit fast. Try slowing down.\")\n",
    "    elif audio_stats['wpm'] < 90:\n",
    "        print(\"⚠️ You are speaking quite slowly. Aim for 110–130 WPM.\")\n",
    "\n",
    "    if audio_stats['filler_count'] > 3:\n",
    "        print(\"⚠️ Consider reducing filler words for a smoother delivery.\")\n"
   ]
  },
  {
   "cell_type": "code",
   "execution_count": 6,
   "id": "584f2ccc",
   "metadata": {},
   "outputs": [
    {
     "name": "stdout",
     "output_type": "stream",
     "text": [
      "Recording started... Speak now.\n",
      "Recording complete.\n",
      "\n",
      "--- FEEDBACK REPORT ---\n",
      "Transcript:  táis...\n",
      "Total words: 1\n",
      "Speech Rate: 2.0 WPM\n",
      "Filler words detected: 0 ()\n",
      "⚠️ You are speaking quite slowly. Aim for 110–130 WPM.\n"
     ]
    }
   ],
   "source": [
    "if __name__ == \"__main__\":\n",
    "    frames = record_video_audio(duration=duration)\n",
    "    audio_stats = analyze_audio(audio_filename)\n",
    "    generate_feedback(audio_stats)\n"
   ]
  }
 ],
 "metadata": {
  "kernelspec": {
   "display_name": "Python 3",
   "language": "python",
   "name": "python3"
  },
  "language_info": {
   "codemirror_mode": {
    "name": "ipython",
    "version": 3
   },
   "file_extension": ".py",
   "mimetype": "text/x-python",
   "name": "python",
   "nbconvert_exporter": "python",
   "pygments_lexer": "ipython3",
   "version": "3.12.3"
  }
 },
 "nbformat": 4,
 "nbformat_minor": 5
}
